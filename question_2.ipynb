{
 "cells": [
  {
   "cell_type": "markdown",
   "metadata": {},
   "source": [
    "# Q2 Using ADQL to Search for Bright Stars Around the Open Cluster M67"
   ]
  },
  {
   "cell_type": "markdown",
   "metadata": {},
   "source": [
    "A colleague is interested in the open cluster Messier 67 (RA = 132.825 deg, Dec = 11.8 deg)\n",
    "and is considering an observation proposal using the 2dF fibre positioner and HERMES\n",
    "spectrograph (effective for Gaia G band magnitudes < 14). They need to know if there\n",
    "are enough bright stars in this region for observation. Your task is to assist by querying\n",
    "data from Gaia DR3 and performing some basic analysis."
   ]
  },
  {
   "cell_type": "markdown",
   "metadata": {},
   "source": [
    "- #### Download all stars within 1 degree of the center of Messier 67 that are brighter than G = 14 in Gaia DR3 (the table is called gaiadr gaia source) and include a crossmatch these stars with the 2MASS catalog and report your ADQL query text (use the \"\"\"query\"\"\" notation)"
   ]
  },
  {
   "cell_type": "code",
   "execution_count": 1,
   "metadata": {},
   "outputs": [],
   "source": [
    "from astroquery.gaia import Gaia\n",
    "import pandas as pd\n",
    "\n",
    "# Define the center of Messier 67\n",
    "ra_m67 = 133.0747  # Right Ascension in degrees\n",
    "dec_m67 = 11.8167  # Declination in degrees\n",
    "radius = 1.0  # Search radius in degrees\n",
    "mag_limit = 14  # Magnitude limit\n",
    "\n",
    "# Construct the query\n",
    "query = f\"\"\"\n",
    "SELECT *\n",
    "FROM gaiadr3.gaia_source\n",
    "WHERE \n",
    "  1 = CONTAINS(\n",
    "    POINT('ICRS', ra, dec), \n",
    "    CIRCLE('ICRS', {ra_m67}, {dec_m67}, {radius})\n",
    "  )\n",
    "  AND phot_g_mean_mag < {mag_limit}\n",
    "\"\"\"\n",
    "\n",
    "# Run the query\n",
    "job = Gaia.launch_job(query)\n",
    "results = job.get_results()"
   ]
  },
  {
   "cell_type": "markdown",
   "metadata": {},
   "source": [
    "- #### Determine how many stars are returned from the initial query.a"
   ]
  },
  {
   "cell_type": "code",
   "execution_count": null,
   "metadata": {},
   "outputs": [],
   "source": []
  },
  {
   "cell_type": "markdown",
   "metadata": {},
   "source": [
    "- #### Identify any stars with bad 2MASS photometry, where ph qual is not ’AAA’."
   ]
  },
  {
   "cell_type": "code",
   "execution_count": null,
   "metadata": {},
   "outputs": [],
   "source": []
  },
  {
   "cell_type": "markdown",
   "metadata": {},
   "source": [
    "- #### Identify any stars with negative (or non-positive) parallaxes in the Gaia data."
   ]
  },
  {
   "cell_type": "code",
   "execution_count": null,
   "metadata": {},
   "outputs": [],
   "source": []
  },
  {
   "cell_type": "markdown",
   "metadata": {},
   "source": [
    "- #### Apply these two quality cuts (removing stars with bad 2MASS photometry and non-positive parallaxes). After applying the cuts, determine how many stars remain."
   ]
  },
  {
   "cell_type": "code",
   "execution_count": null,
   "metadata": {},
   "outputs": [],
   "source": []
  },
  {
   "cell_type": "markdown",
   "metadata": {},
   "source": [
    "- #### Using the remaining stars, generate a figure with two panels (1 point per panel):\n"
   ]
  },
  {
   "cell_type": "markdown",
   "metadata": {},
   "source": [
    "(a) A color-magnitude diagram (CMD) of Gaia BP-RP vs. absolute G magnitude.\n"
   ]
  },
  {
   "cell_type": "code",
   "execution_count": null,
   "metadata": {},
   "outputs": [],
   "source": []
  },
  {
   "cell_type": "markdown",
   "metadata": {},
   "source": [
    "(b) A 2MASS J-Ks vs. apparent K magnitude diagram."
   ]
  },
  {
   "cell_type": "code",
   "execution_count": null,
   "metadata": {},
   "outputs": [],
   "source": []
  },
  {
   "cell_type": "markdown",
   "metadata": {},
   "source": [
    "- #### Save the figure as figures/cmds M67.png with a resolution of 200 dots per inch"
   ]
  },
  {
   "cell_type": "markdown",
   "metadata": {},
   "source": [
    "- #### Give your colleague a recommendation for the potential proposal when only judging the fibre usage."
   ]
  },
  {
   "cell_type": "markdown",
   "metadata": {},
   "source": []
  }
 ],
 "metadata": {
  "kernelspec": {
   "display_name": "base",
   "language": "python",
   "name": "python3"
  },
  "language_info": {
   "codemirror_mode": {
    "name": "ipython",
    "version": 3
   },
   "file_extension": ".py",
   "mimetype": "text/x-python",
   "name": "python",
   "nbconvert_exporter": "python",
   "pygments_lexer": "ipython3",
   "version": "3.11.8"
  }
 },
 "nbformat": 4,
 "nbformat_minor": 2
}
