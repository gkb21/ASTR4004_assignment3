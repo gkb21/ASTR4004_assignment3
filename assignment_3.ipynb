{
 "cells": [
  {
   "cell_type": "markdown",
   "metadata": {},
   "source": [
    "# Assignment 3 \n",
    "u6664231"
   ]
  },
  {
   "cell_type": "code",
   "execution_count": null,
   "metadata": {},
   "outputs": [],
   "source": []
  },
  {
   "cell_type": "markdown",
   "metadata": {},
   "source": [
    "## Question 1  Git in practice "
   ]
  },
  {
   "cell_type": "markdown",
   "metadata": {},
   "source": [
    "See commit history on public repo: https://github.com/gkb21/ASTR4004_assignment3"
   ]
  },
  {
   "cell_type": "markdown",
   "metadata": {},
   "source": [
    "Also note for the first dozen or so commits I was playing around with how branching and merging worked and what I could and couldn't do so sorry for the chaos  "
   ]
  },
  {
   "cell_type": "markdown",
   "metadata": {},
   "source": [
    "## Question 2 Using ADQL to Search for Bright Stars Around the Open Cluster M67"
   ]
  },
  {
   "cell_type": "markdown",
   "metadata": {},
   "source": [
    "A colleague is interested in the open cluster Messier 67 (RA = 132.825 deg, Dec = 11.8 deg)\n",
    "and is considering an observation proposal using the 2dF fibre positioner and HERMES\n",
    "spectrograph (effective for Gaia G band magnitudes < 14). They need to know if there\n",
    "are enough bright stars in this region for observation. Your task is to assist by querying\n",
    "data from Gaia DR3 and performing some basic analysis."
   ]
  },
  {
   "cell_type": "markdown",
   "metadata": {},
   "source": [
    "- #### Download all stars within 1 degree of the center of Messier 67 that are brighter than G = 14 in Gaia DR3 (the table is called gaiadr gaia source) and include a crossmatch these stars with the 2MASS catalog and report your ADQL query text (use the \"\"\"query\"\"\" notation)"
   ]
  },
  {
   "cell_type": "code",
   "execution_count": 48,
   "metadata": {},
   "outputs": [
    {
     "name": "stdout",
     "output_type": "stream",
     "text": [
      "2119545319.py:               solution_id                  DESIGNATION  random_index  \\\n",
      "0     1636148068921376768  Gaia DR3 608020176290124544     365257723   \n",
      "1     1636148068921376768  Gaia DR3 598677041873269888     347884130   \n",
      "2     1636148068921376768  Gaia DR3 604920240695111424     441504422   \n",
      "3     1636148068921376768  Gaia DR3 604992258706635520     554171204   \n",
      "4     1636148068921376768  Gaia DR3 604684326730942592     803047084   \n",
      "...                   ...                          ...           ...   \n",
      "1013  1636148068921376768  Gaia DR3 608127481752974720     135826423   \n",
      "1014  1636148068921376768  Gaia DR3 604901652076632960    1318611312   \n",
      "1015  1636148068921376768  Gaia DR3 604972226979105664     837264516   \n",
      "1016  1636148068921376768  Gaia DR3 607987736401416576     711162152   \n",
      "1017  1636148068921376768  Gaia DR3 598890381488889088     503374393   \n",
      "\n",
      "      ref_epoch          ra  ra_error        dec  dec_error   parallax  \\\n",
      "0        2016.0  132.164662  0.035635  12.546939   0.019973   2.690377   \n",
      "1        2016.0  132.984712  0.017493  11.135822   0.009685   2.957272   \n",
      "2        2016.0  132.955583  0.036204  11.894179   0.018463   3.439539   \n",
      "3        2016.0  132.390877  0.021266  12.170843   0.011679  16.694127   \n",
      "4        2016.0  133.126921  0.020579  11.258977   0.011613   1.163059   \n",
      "...         ...         ...       ...        ...        ...        ...   \n",
      "1013     2016.0  132.952514  0.017030  12.722496   0.008999   0.795769   \n",
      "1014     2016.0  133.173432  0.021976  11.724561   0.011698   0.823073   \n",
      "1015     2016.0  132.762102  0.016513  12.006010   0.009210   2.421484   \n",
      "1016     2016.0  132.212888  0.040465  12.134974   0.021271   0.743423   \n",
      "1017     2016.0  132.730019  0.018325  11.520704   0.009360   1.177810   \n",
      "\n",
      "      parallax_error  ...  err_min  err_ang     j_m  j_msigcom     h_m  \\\n",
      "0           0.046984  ...     0.29        0   3.036      0.240   2.091   \n",
      "1           0.022465  ...     0.09        0   5.394      0.020   4.612   \n",
      "2           0.046226  ...     0.06       90   5.889      0.019   5.409   \n",
      "3           0.024884  ...     0.06       90   6.723      0.019   6.520   \n",
      "4           0.026148  ...     0.08       90   5.392      0.052   4.687   \n",
      "...              ...  ...      ...      ...     ...        ...     ...   \n",
      "1013        0.019686  ...     0.06        0  12.576      0.022  12.105   \n",
      "1014        0.026205  ...     0.06       90  12.650      0.025  12.155   \n",
      "1015        0.019692  ...     0.06        0  12.640      0.022  12.188   \n",
      "1016        0.043513  ...     0.06       90  12.822      0.022  12.431   \n",
      "1017        0.020921  ...     0.06       90  13.009      0.021  12.750   \n",
      "\n",
      "      h_msigcom    ks_m  ks_msigcom  ext_key        j_date  \n",
      "0         0.196   1.903       0.236     <NA>  2.451115e+06  \n",
      "1         0.292   4.686       0.020     <NA>  2.450769e+06  \n",
      "2         0.029   5.232       0.017     <NA>  2.450769e+06  \n",
      "3         0.026   6.467       0.017     <NA>  2.450768e+06  \n",
      "4         0.040   4.364       0.036     <NA>  2.451591e+06  \n",
      "...         ...     ...         ...      ...           ...  \n",
      "1013      0.022  12.036       0.021     <NA>  2.450768e+06  \n",
      "1014      0.031  12.098       0.024     <NA>  2.451587e+06  \n",
      "1015      0.022  12.030       0.021     <NA>  2.450768e+06  \n",
      "1016      0.021  12.342       0.018     <NA>  2.451135e+06  \n",
      "1017      0.023  12.643       0.024     <NA>  2.450769e+06  \n",
      "\n",
      "[1018 rows x 176 columns]\n",
      "2119545319.py: Index(['solution_id', 'DESIGNATION', 'random_index', 'ref_epoch', 'ra',\n",
      "       'ra_error', 'dec', 'dec_error', 'parallax', 'parallax_error',\n",
      "       ...\n",
      "       'err_min', 'err_ang', 'j_m', 'j_msigcom', 'h_m', 'h_msigcom', 'ks_m',\n",
      "       'ks_msigcom', 'ext_key', 'j_date'],\n",
      "      dtype='object', length=176)\n"
     ]
    }
   ],
   "source": [
    "from astroquery.gaia import Gaia\n",
    "import pandas as pd\n",
    "from astropy.table import Table\n",
    "\n",
    "# Define the center of Messier 67\n",
    "ra_m67 = 132.825   # Right Ascension in degrees\n",
    "dec_m67 = 11.8 # Declination in degrees\n",
    "radius = 1.0  # Search radius in degrees\n",
    "mag_limit = 14  # Magnitude limit\n",
    "\n",
    "'''\n",
    "This is a query for stars that are 1 degree of the center of Messier 67 that are brighterthan G = 14\n",
    "from Gaia DR3 with a 2mass crossmatch\n",
    "'''\n",
    "gaia_2mass_crossmatch_query = f\"\"\"\n",
    "SELECT *\n",
    "FROM gaiadr3.gaia_source AS gaia\n",
    "JOIN gaiaedr3.tmass_psc_xsc_best_neighbour AS xmatch USING (source_id)\n",
    "JOIN gaiaedr3.tmass_psc_xsc_join AS xjoin USING (clean_tmass_psc_xsc_oid)\n",
    "JOIN gaiadr1.tmass_original_valid AS tmass\n",
    "    ON xjoin.original_psc_source_id = tmass.designation\n",
    "\n",
    "WHERE CONTAINS(\n",
    "        POINT(gaia.ra, gaia.dec), \n",
    "        CIRCLE({ra_m67}, {dec_m67}, {radius})\n",
    "    ) = 1\n",
    "    AND gaia.phot_g_mean_mag < {mag_limit}\n",
    "ORDER BY gaia.phot_g_mean_mag\n",
    "\n",
    "\"\"\"\n",
    "\n",
    "# Runs the ADQL query for 'gaia_2mass_crossmatch_query'\n",
    "job = Gaia.launch_job(gaia_2mass_crossmatch_query ) \n",
    "results = job.get_results()\n",
    "# Convert to pandas data frame   \n",
    "gaia_2mass_crossmatch_query_data_table = results.to_pandas()\n",
    "print(gaia_2mass_crossmatch_query_data_table)\n"
   ]
  },
  {
   "cell_type": "markdown",
   "metadata": {},
   "source": [
    "- #### Determine how many stars are returned from the initial query.a"
   ]
  },
  {
   "cell_type": "code",
   "execution_count": 29,
   "metadata": {},
   "outputs": [
    {
     "name": "stdout",
     "output_type": "stream",
     "text": [
      "1491207227.py: Number of stars brighter than G=14 within 1 degree of M67: 1018\n"
     ]
    }
   ],
   "source": [
    "# Determines how many stars are in the filtered data set via checking the len of the amount of entries\n",
    "num_stars = len(gaia_2mass_crossmatch_query_data_table)\n",
    "print(f\"Number of stars brighter than G={mag_limit} within 1 degree of M67: {num_stars}\") # prints number of stars "
   ]
  },
  {
   "cell_type": "markdown",
   "metadata": {},
   "source": [
    "- #### Identify any stars with bad 2MASS photometry, where ph qual is not ’AAA’."
   ]
  },
  {
   "cell_type": "code",
   "execution_count": 46,
   "metadata": {},
   "outputs": [
    {
     "name": "stdout",
     "output_type": "stream",
     "text": [
      "3193909364.py: 21\n",
      "3193909364.py:              solution_id                  DESIGNATION  random_index  \\\n",
      "0    1636148068921376768  Gaia DR3 608020176290124544     365257723   \n",
      "1    1636148068921376768  Gaia DR3 598677041873269888     347884130   \n",
      "4    1636148068921376768  Gaia DR3 604684326730942592     803047084   \n",
      "22   1636148068921376768  Gaia DR3 605101037342309376    1275034334   \n",
      "24   1636148068921376768  Gaia DR3 598689102141448320     446746802   \n",
      "25   1636148068921376768  Gaia DR3 598955115237068032     594867401   \n",
      "69   1636148068921376768  Gaia DR3 604950271106216064     156518440   \n",
      "97   1636148068921376768  Gaia DR3 604911268507711232    1004522431   \n",
      "173  1636148068921376768  Gaia DR3 604917835513458688     941052385   \n",
      "314  1636148068921376768  Gaia DR3 604713459494948352     532598536   \n",
      "403  1636148068921376768  Gaia DR3 598689102142789760    1573797226   \n",
      "435  1636148068921376768  Gaia DR3 604636321880758144     383307719   \n",
      "464  1636148068921376768  Gaia DR3 598921030375475200     238400092   \n",
      "558  1636148068921376768  Gaia DR3 604917831219174528     409462033   \n",
      "569  1636148068921376768  Gaia DR3 604921202767811712     365485561   \n",
      "592  1636148068921376768  Gaia DR3 598925943818062208     151562810   \n",
      "641  1636148068921376768  Gaia DR3 604904847532342528      87809689   \n",
      "660  1636148068921376768  Gaia DR3 598896841119762816      62711808   \n",
      "803  1636148068921376768  Gaia DR3 604904847532342272    1627421891   \n",
      "900  1636148068921376768  Gaia DR3 598921030375475072     433899898   \n",
      "928  1636148068921376768  Gaia DR3 608019317296666624     251608675   \n",
      "\n",
      "     ref_epoch          ra  ra_error        dec  dec_error  parallax  \\\n",
      "0       2016.0  132.164662  0.035635  12.546939   0.019973  2.690377   \n",
      "1       2016.0  132.984712  0.017493  11.135822   0.009685  2.957272   \n",
      "4       2016.0  133.126921  0.020579  11.258977   0.011613  1.163059   \n",
      "22      2016.0  133.253842  0.013277  12.370194   0.006737  1.601201   \n",
      "24      2016.0  132.921595  0.080531  11.161629   0.046444  7.444668   \n",
      "25      2016.0  132.486694  0.015408  11.692484   0.008558  1.190538   \n",
      "69      2016.0  133.009598  0.012794  12.087495   0.007394  0.653671   \n",
      "97      2016.0  132.809752  0.035847  11.750135   0.020450  1.251832   \n",
      "173     2016.0  132.876841  0.022782  11.816188   0.012206  1.362163   \n",
      "314     2016.0  133.251230  0.015576  11.684762   0.007379  1.409808   \n",
      "403     2016.0  132.922017  0.015122  11.162621   0.009118  7.520311   \n",
      "435     2016.0  133.604613  0.012842  11.206571   0.007126  4.262796   \n",
      "464     2016.0  132.096061  0.017730  11.431037   0.009973  1.180369   \n",
      "558     2016.0  132.877320  0.018322  11.815211   0.008735  1.180764   \n",
      "569     2016.0  132.874362  0.013997  11.858310   0.007263  1.117476   \n",
      "592     2016.0  132.008071  0.013427  11.563570   0.007910  4.225149   \n",
      "641     2016.0  132.959196  0.021412  11.749179   0.011199  1.058477   \n",
      "660     2016.0  132.276082  0.014816  11.425153   0.007789  1.536581   \n",
      "803     2016.0  132.958782  0.015714  11.750083   0.007814  1.069711   \n",
      "900     2016.0  132.096935  0.021718  11.430442   0.012333  1.524455   \n",
      "928     2016.0  132.159990  0.016280  12.531222   0.008473  0.783129   \n",
      "\n",
      "     parallax_error  ...  err_min  err_ang     j_m  j_msigcom     h_m  \\\n",
      "0          0.046984  ...     0.29        0   3.036      0.240   2.091   \n",
      "1          0.022465  ...     0.09        0   5.394      0.020   4.612   \n",
      "4          0.026148  ...     0.08       90   5.392      0.052   4.687   \n",
      "22         0.015648  ...     0.08        0   7.883      0.023   7.441   \n",
      "24         0.097556  ...     0.09        0   8.608        NaN   8.124   \n",
      "25         0.017664  ...     0.07        0   7.542      0.027   6.915   \n",
      "69         0.015075  ...     0.07        0   8.843      0.027   8.181   \n",
      "97         0.041990  ...     0.07        0  10.081      0.023   9.993   \n",
      "173        0.027455  ...     0.11       90  10.333        NaN   9.780   \n",
      "314        0.018432  ...     0.10       90  11.493      0.372  11.280   \n",
      "403        0.018234  ...     0.09        0   9.139        NaN   8.478   \n",
      "435        0.017334  ...     0.06       90  11.495      0.043  11.036   \n",
      "464        0.022508  ...     0.09       91  11.948        NaN  11.911   \n",
      "558        0.021685  ...     0.11      135  10.878        NaN  10.373   \n",
      "569        0.016075  ...     0.09       90  12.320      0.026  12.121   \n",
      "592        0.016286  ...     0.11      151  11.898        NaN  11.239   \n",
      "641        0.025310  ...     0.09       90  12.083        NaN  12.054   \n",
      "660        0.018948  ...     0.07       90  12.279      0.039  11.991   \n",
      "803        0.019006  ...     0.09       90  12.135        NaN  12.314   \n",
      "900        0.028418  ...     0.09       90  12.102        NaN  12.411   \n",
      "928        0.018584  ...     0.08        0  13.051      0.022  12.677   \n",
      "\n",
      "     h_msigcom    ks_m  ks_msigcom  ext_key        j_date  \n",
      "0        0.196   1.903       0.236     <NA>  2.451115e+06  \n",
      "1        0.292   4.686       0.020     <NA>  2.450769e+06  \n",
      "4        0.040   4.364       0.036     <NA>  2.451591e+06  \n",
      "22       0.021   7.310       0.015     <NA>  2.450768e+06  \n",
      "24       0.023   8.115       0.028     <NA>  2.450769e+06  \n",
      "25       0.018   6.693       9.995     <NA>  2.450769e+06  \n",
      "69       0.026   8.079       9.995     <NA>  2.450768e+06  \n",
      "97       0.028   9.918       0.024     <NA>  2.450769e+06  \n",
      "173        NaN   9.689       0.026     <NA>  2.450769e+06  \n",
      "314      0.027  11.268       0.674     <NA>  2.451587e+06  \n",
      "403      0.076  10.210       0.026     <NA>  2.450769e+06  \n",
      "435      0.027  10.881       0.038     <NA>  2.451587e+06  \n",
      "464      0.059  11.825       0.043     <NA>  2.451587e+06  \n",
      "558        NaN  11.631       0.031     <NA>  2.450769e+06  \n",
      "569        NaN  12.028       0.025     <NA>  2.450769e+06  \n",
      "592      0.036  11.235         NaN     <NA>  2.451586e+06  \n",
      "641      0.049  11.943       0.021     <NA>  2.450769e+06  \n",
      "660      0.044  11.924       0.038     <NA>  2.450769e+06  \n",
      "803      0.028  12.116       0.050     <NA>  2.450769e+06  \n",
      "900      0.035  12.332       0.026     <NA>  2.451587e+06  \n",
      "928        NaN  12.794       0.019     <NA>  2.451115e+06  \n",
      "\n",
      "[21 rows x 176 columns]\n"
     ]
    }
   ],
   "source": [
    "'''\n",
    "Filter the stars where ph_qual is NOT 'AAA' leaving behind \n",
    "only the bad 2MASS photometry stars using pandas query\n",
    "'''\n",
    "bad_photometry_stars = gaia_2mass_crossmatch_query_data_table.query(\"ph_qual != 'AAA'\")\n",
    "# Determines how many stars are in the filtered data set via checking the len of the amount of entries\n",
    "num_bad_photometry_stars = len(bad_photometry_stars)\n",
    "print(num_bad_photometry_stars) # prints the number of bad 2MASS photometry stars\n",
    "print(bad_photometry_stars) # prints a table of bad 2MASS photometry stars \n"
   ]
  },
  {
   "cell_type": "code",
   "execution_count": 57,
   "metadata": {},
   "outputs": [
    {
     "name": "stdout",
     "output_type": "stream",
     "text": [
      "56804046.py: 0      Gaia DR3 608020176290124544\n",
      "1      Gaia DR3 598677041873269888\n",
      "4      Gaia DR3 604684326730942592\n",
      "22     Gaia DR3 605101037342309376\n",
      "24     Gaia DR3 598689102141448320\n",
      "25     Gaia DR3 598955115237068032\n",
      "69     Gaia DR3 604950271106216064\n",
      "97     Gaia DR3 604911268507711232\n",
      "173    Gaia DR3 604917835513458688\n",
      "314    Gaia DR3 604713459494948352\n",
      "403    Gaia DR3 598689102142789760\n",
      "435    Gaia DR3 604636321880758144\n",
      "464    Gaia DR3 598921030375475200\n",
      "558    Gaia DR3 604917831219174528\n",
      "569    Gaia DR3 604921202767811712\n",
      "592    Gaia DR3 598925943818062208\n",
      "641    Gaia DR3 604904847532342528\n",
      "660    Gaia DR3 598896841119762816\n",
      "803    Gaia DR3 604904847532342272\n",
      "900    Gaia DR3 598921030375475072\n",
      "928    Gaia DR3 608019317296666624\n",
      "Name: DESIGNATION, dtype: object\n"
     ]
    }
   ],
   "source": [
    "# All the stars with bad 2MASS photometry\n",
    "print(bad_photometry_stars['DESIGNATION'])"
   ]
  },
  {
   "cell_type": "markdown",
   "metadata": {},
   "source": [
    "- #### Identify any stars with negative (or non-positive) parallaxes in the Gaia data."
   ]
  },
  {
   "cell_type": "code",
   "execution_count": 47,
   "metadata": {},
   "outputs": [
    {
     "name": "stdout",
     "output_type": "stream",
     "text": [
      "3575783184.py: 9\n",
      "3575783184.py:              solution_id                  DESIGNATION  random_index  \\\n",
      "86   1636148068921376768  Gaia DR3 604917663716360576     324647624   \n",
      "155  1636148068921376768  Gaia DR3 604921546365012480     131241535   \n",
      "179  1636148068921376768  Gaia DR3 604921542069455104     544905365   \n",
      "243  1636148068921376768  Gaia DR3 598886739356653696    1501496757   \n",
      "295  1636148068921376768  Gaia DR3 598873953238690816      49906729   \n",
      "534  1636148068921376768  Gaia DR3 604918282190043648    1391376225   \n",
      "754  1636148068921376768  Gaia DR3 598847569256078464     314066461   \n",
      "832  1636148068921376768  Gaia DR3 598892580511613312     683012459   \n",
      "945  1636148068921376768  Gaia DR3 598892580512198144    1004824233   \n",
      "\n",
      "     ref_epoch          ra   ra_error        dec  dec_error  parallax  \\\n",
      "86      2016.0  132.861743   7.256874  11.811254   3.914955       NaN   \n",
      "155     2016.0  132.836633   5.527748  11.890591   3.062133       NaN   \n",
      "179     2016.0  132.836514   0.798105  11.890589   0.699120       NaN   \n",
      "243     2016.0  132.590588   2.211187  11.375826   1.349002       NaN   \n",
      "295     2016.0  132.596800   1.870199  11.188649   0.871895       NaN   \n",
      "534     2016.0  132.890171   0.127477  11.862498   0.065573 -0.120740   \n",
      "754     2016.0  132.410649   0.309384  11.033373   0.175351 -0.164818   \n",
      "832     2016.0  132.388320  14.979320  11.361398   1.799205       NaN   \n",
      "945     2016.0  132.388456   1.126629  11.361435   0.763405       NaN   \n",
      "\n",
      "     parallax_error  ...  err_min  err_ang     j_m  j_msigcom     h_m  \\\n",
      "86              NaN  ...     0.07       90   9.398      0.022   9.090   \n",
      "155             NaN  ...     0.06       90  10.280      0.022  10.080   \n",
      "179             NaN  ...     0.06       90  10.280      0.022  10.080   \n",
      "243             NaN  ...     0.06      179  10.595      0.023  10.129   \n",
      "295             NaN  ...     0.06        0  11.457      0.025  11.175   \n",
      "534        0.159153  ...     0.07       90  12.026      0.022  11.719   \n",
      "754        0.380410  ...     0.06        0  12.178      0.024  11.727   \n",
      "832             NaN  ...     0.06        0  12.382      0.021  12.123   \n",
      "945             NaN  ...     0.06        0  12.382      0.021  12.123   \n",
      "\n",
      "     h_msigcom    ks_m  ks_msigcom  ext_key        j_date  \n",
      "86       0.020   9.054       0.018     <NA>  2.450769e+06  \n",
      "155      0.022  10.007       0.018     <NA>  2.450769e+06  \n",
      "179      0.022  10.007       0.018     <NA>  2.450769e+06  \n",
      "243      0.023  10.040       0.020     <NA>  2.450769e+06  \n",
      "295      0.027  11.116       0.021     <NA>  2.450769e+06  \n",
      "534      0.020  11.652       0.021     <NA>  2.450769e+06  \n",
      "754      0.022  11.643       0.023     <NA>  2.450769e+06  \n",
      "832      0.025  12.079       0.020     <NA>  2.450769e+06  \n",
      "945      0.025  12.079       0.020     <NA>  2.450769e+06  \n",
      "\n",
      "[9 rows x 176 columns]\n"
     ]
    }
   ],
   "source": [
    "# Filter to leave only negative parallaxes and null parallaxes in our data set using pandas query \n",
    "negative_parallax_stars = gaia_2mass_crossmatch_query_data_table.query('parallax.isnull() or parallax <= 0')\n",
    "# Determines how many stars are in the filtered data set via checking the len of the amount of entries \n",
    "num_bad_photometry_stars = len(negative_parallax_stars)\n",
    "print(num_bad_photometry_stars) #prints the num of stars with egative parallaxes and null parallaxes\n",
    "print(negative_parallax_stars) # prints pandas table of stars "
   ]
  },
  {
   "cell_type": "markdown",
   "metadata": {},
   "source": [
    "- #### Apply these two quality cuts (removing stars with bad 2MASS photometry and non-positive parallaxes). After applying the cuts, determine how many stars remain."
   ]
  },
  {
   "cell_type": "code",
   "execution_count": 63,
   "metadata": {},
   "outputs": [
    {
     "name": "stdout",
     "output_type": "stream",
     "text": [
      "3638111359.py: Number of stars brighter than G=14 within 1 degree of M67 that are ph_qual AAA quality and parallax is not <0 or nan: 988\n"
     ]
    }
   ],
   "source": [
    "'''\n",
    "Filter out both negative parallaxes and null parallaxes using pandas query as well\n",
    "as making sure that stars don't have bad 2MASS photometry using pandas query \n",
    "'''\n",
    "filtered_gaia_2mass_crossmatch_query_data= gaia_2mass_crossmatch_query_data_table.query(\"ph_qual == 'AAA' and parallax.notnull() and parallax > 0\")\n",
    "# Determines how many stars are in the filtered data set via checking the len of the amount of entries\n",
    "filtered_num_stars = len(filtered_gaia_2mass_crossmatch_query_data)\n",
    "# prints the amount of filtered stars \n",
    "print(f\"Number of stars brighter than G={mag_limit} within 1 degree of M67 that are ph_qual AAA quality and parallax is not <0 or nan: {filtered_num_stars}\")\n"
   ]
  },
  {
   "cell_type": "markdown",
   "metadata": {},
   "source": [
    "- #### Using the remaining stars, generate a figure with two panels (1 point per panel):\n"
   ]
  },
  {
   "cell_type": "markdown",
   "metadata": {},
   "source": [
    "(a) A color-magnitude diagram (CMD) of Gaia BP-RP vs. absolute G magnitude.\n"
   ]
  },
  {
   "cell_type": "code",
   "execution_count": null,
   "metadata": {},
   "outputs": [],
   "source": []
  },
  {
   "cell_type": "markdown",
   "metadata": {},
   "source": [
    "(b) A 2MASS J-Ks vs. apparent K magnitude diagram."
   ]
  },
  {
   "cell_type": "code",
   "execution_count": null,
   "metadata": {},
   "outputs": [],
   "source": []
  },
  {
   "cell_type": "markdown",
   "metadata": {},
   "source": [
    "- #### Save the figure as figures/cmds M67.png with a resolution of 200 dots per inch"
   ]
  },
  {
   "cell_type": "markdown",
   "metadata": {},
   "source": [
    "- #### Give your colleague a recommendation for the potential proposal when only judging the fibre usage."
   ]
  },
  {
   "cell_type": "markdown",
   "metadata": {},
   "source": [
    "## Question 3 The radial metallicity relation in simulated data "
   ]
  },
  {
   "cell_type": "markdown",
   "metadata": {},
   "source": [
    "The radial metallicity relation is a function that describes the change of metallicity -\n",
    "here the gas phase metallicity $A(O) = log10(NO/NH) + 12$ - along the galactocentric\n",
    "radius $R_{Gal}$.. Understanding the radial metallicity gradient in galaxies provides critical\n",
    "insights into their formation and evolutionary processes, such as inside-out formation,\n",
    "gas accretion, outflows, and radial migration. A lot of work has been done through\n",
    "observational studies (e.g. Ho et al., 2017, ApJ, 846, 39) and a few simulations (e.g.\n",
    "Grand et al., 2016, MNRAS, 460, 94), but more works needs to be done to understand\n",
    "the radial metallicity gradient!\n",
    "Your colleague has just finished an exciting cosmological simulation that traces the\n",
    "gas phase metallicity for a Milky Way analogue, that is, a spiral galaxy. They have\n",
    "limited the simulation data to the positions (x, y, z) of the innermost gas particles\n",
    "(RGal. < 25 kpc) and their gas phase metallicity A(O) and uploaded them as a FITS\n",
    "file for you here: https://github.com/svenbuder/astr4004_2024_week7/blob/main/data/nihao_uhd_simulation_g8.26e11_xyz_positions_and_oxygen_ao.fits"
   ]
  },
  {
   "cell_type": "code",
   "execution_count": 9,
   "metadata": {},
   "outputs": [],
   "source": [
    "try:\n",
    "    %matplotlib inline\n",
    "    %config InlineBackend.figure_format='retina'\n",
    "except:\n",
    "    pass\n",
    "\n",
    "import numpy as np\n",
    "import matplotlib\n",
    "import matplotlib.pyplot as plt\n",
    "\n",
    "# Make the size and fonts larger for this presentation\n",
    "plt.rcParams['figure.figsize'] = (10, 8)\n",
    "plt.rcParams['font.size'] = 16\n",
    "plt.rcParams['lines.linewidth'] = 2"
   ]
  },
  {
   "cell_type": "code",
   "execution_count": 10,
   "metadata": {},
   "outputs": [],
   "source": [
    "import pandas as pd\n",
    "from astropy.table import Table # this works well for FITS data catalogues\n",
    "from astropy.io import fits # this is your more agnostic way to work for FITS images\n",
    "import matplotlib.pyplot as plt\n",
    "from sklearn.linear_model import LinearRegression\n",
    "import numpy as np"
   ]
  },
  {
   "cell_type": "markdown",
   "metadata": {},
   "source": [
    "#### - Download the file from the link above into **data/**. Load the file with python and then perform the following tasks to create figures that are saved in **figures/**:"
   ]
  },
  {
   "cell_type": "code",
   "execution_count": null,
   "metadata": {},
   "outputs": [],
   "source": [
    "# FITS Images\n",
    "fits_file = fits.open('data/nihao_uhd_simulation_g8.26e11_xyz_positions_and_oxygen_ao.fits', ignore_missing_simple=True)\n",
    "print(fits_file)"
   ]
  },
  {
   "cell_type": "code",
   "execution_count": null,
   "metadata": {},
   "outputs": [],
   "source": [
    "#we can also just dump information for this fits file\n",
    "print(fits_file.info())"
   ]
  },
  {
   "cell_type": "code",
   "execution_count": null,
   "metadata": {},
   "outputs": [],
   "source": [
    "#print the header for the Primary Extension\n",
    "print(fits_file[0].header.items)"
   ]
  },
  {
   "cell_type": "code",
   "execution_count": null,
   "metadata": {},
   "outputs": [],
   "source": [
    "data = fits_file[1].data\n",
    "data_table = Table(data)\n",
    "print(data_table.colnames)"
   ]
  },
  {
   "cell_type": "markdown",
   "metadata": {},
   "source": [
    "(a) Logarithmic density plot of RGal. vs. A(O), with a linear fit and legend."
   ]
  },
  {
   "cell_type": "code",
   "execution_count": 15,
   "metadata": {},
   "outputs": [],
   "source": [
    "# Calculate RGal from x, y, z positions\n",
    "x = data_table['x']\n",
    "y = data_table['y']\n",
    "z = data_table['z']\n",
    "A_O = data_table['A_O']  # Adjust this based on actual column name\n",
    "# Calculate RGal\n",
    "RGal = np.sqrt(x**2 + y**2 + z**2)"
   ]
  },
  {
   "cell_type": "code",
   "execution_count": 16,
   "metadata": {},
   "outputs": [],
   "source": [
    "# Filter for RGal < 25 kpc\n",
    "mask = RGal < 25\n",
    "RGal_filtered = RGal\n",
    "A_O_filtered = A_O"
   ]
  },
  {
   "cell_type": "code",
   "execution_count": 17,
   "metadata": {},
   "outputs": [],
   "source": [
    "# Prepare the linear regression model\n",
    "model = LinearRegression()\n",
    "model.fit(RGal_filtered.reshape(-1, 1), A_O_filtered)\n",
    "# Predict metallicity for the fitted model\n",
    "A_O_fit = model.predict(RGal_filtered.reshape(-1, 1))"
   ]
  },
  {
   "cell_type": "code",
   "execution_count": 18,
   "metadata": {},
   "outputs": [],
   "source": [
    "# Linear fit\n",
    "linear_fit = np.polyfit(RGal, A_O, 1)  # 1 for linear\n",
    "m, b = linear_fit  # slope and intercept"
   ]
  },
  {
   "cell_type": "code",
   "execution_count": 19,
   "metadata": {},
   "outputs": [],
   "source": [
    "import statsmodels.api as sm\n",
    "\n",
    "# Linear model\n",
    "x_with_intercept = sm.add_constant(RGal)  # Adds the intercept term\n",
    "linear_model = sm.OLS(A_O, x_with_intercept).fit()"
   ]
  },
  {
   "cell_type": "code",
   "execution_count": null,
   "metadata": {},
   "outputs": [],
   "source": [
    "# Print linear model summary (with statistical info)\n",
    "print(linear_model.summary())\n",
    "x_smooth = np.linspace(min(RGal), max(RGal), 500)\n",
    "linear_fit = linear_model.params[0] + linear_model.params[1] * x_smooth\n"
   ]
  },
  {
   "cell_type": "code",
   "execution_count": null,
   "metadata": {},
   "outputs": [],
   "source": [
    "residuals = A_O - linear_model.predict(x_with_intercept)\n",
    "plt.scatter(RGal, residuals, s=2, alpha=1)\n",
    "plt.axhline(0, color='red', linestyle='--', label='Zero Residual')"
   ]
  },
  {
   "cell_type": "code",
   "execution_count": null,
   "metadata": {},
   "outputs": [],
   "source": [
    "\n",
    "plt.hexbin(RGal, residuals, gridsize=100, cmap='inferno')\n",
    "plt.colorbar(label='Counts')\n",
    "plt.axhline(0, color='red', linestyle='--', label='Zero Residual')"
   ]
  },
  {
   "cell_type": "code",
   "execution_count": 23,
   "metadata": {},
   "outputs": [],
   "source": [
    "from scipy.optimize import curve_fit\n",
    "\n",
    "# Define linear model\n",
    "def linear_model(x, m, b):\n",
    "    return m * x + b"
   ]
  },
  {
   "cell_type": "code",
   "execution_count": 24,
   "metadata": {},
   "outputs": [],
   "source": [
    "popt_linear, pcov_linear = curve_fit(linear_model, RGal, A_O, absolute_sigma=True)\n",
    "m_linear, b_linear = popt_linear\n",
    "perr_linear = np.sqrt(np.diag(pcov_linear))"
   ]
  },
  {
   "cell_type": "code",
   "execution_count": null,
   "metadata": {},
   "outputs": [],
   "source": [
    "print(f\"Linear Fit: y = {m_linear:.2f}x + {b_linear:.2f}\")\n",
    "print(f\"Linear Fit uncertainties: m = {perr_linear[0]:.2f}, b = {perr_linear[1]:.2f}\")"
   ]
  },
  {
   "cell_type": "code",
   "execution_count": null,
   "metadata": {},
   "outputs": [],
   "source": [
    "# Create the plot\n",
    "# Create the figure\n",
    "fig = plt.figure(figsize=(15, 6))\n",
    "ax1 = fig.add_subplot(121)  # First subplot\n",
    "ax2 = fig.add_subplot(122)  # Second subplot\n",
    "\n",
    "\n",
    "hb = ax1.hexbin(RGal_filtered, A_O_filtered, gridsize=70, cmap='inferno', bins='log')\n",
    "ax1.plot(RGal_filtered, A_O_fit, color=(0.078, 0.667, 1.0), linewidth=5,label='Linear Fit')\n",
    "ax1.plot(x_smooth, linear_fit, label='Linear Fit', color='red')\n",
    "ax1.set_xlabel('R_Gal (kpc)')\n",
    "ax1.set_ylabel('A(O)')\n",
    "ax1.set_title('Logarithmic Density Plot of RGal vs. A(O)')\n",
    "\n",
    "ax2.scatter(RGal, residuals, s=2, alpha=1)\n",
    "ax2.axhline(0, color='red', linestyle='--', label='Zero Residual')\n",
    "ax2.set_xlabel('RGal (kpc)')\n",
    "ax2.set_ylabel('Residuals')\n",
    "ax2.set_title('Residuals Plot')\n",
    "\n",
    "\n",
    "\n",
    "\n",
    "#fit_info = f'Slope: {m:.2f}, Intercept: {b:.2f}, R²: {r_value**2:.2f}'\n",
    "#ax1.legend([fitline[0]], [fit_info], loc='lower left')\n",
    "plt.colorbar(hb, ax=ax1, label='Log Density')\n",
    "plt.savefig('figures/RGal_vs_AO.png', bbox_inches='tight')\n",
    "plt.show()\n",
    "# Save the figure\n",
    "\n",
    "plt.close()  # Close the figure to free memory"
   ]
  },
  {
   "cell_type": "code",
   "execution_count": null,
   "metadata": {},
   "outputs": [],
   "source": [
    "# Create the plot\n",
    "# Create the figure\n",
    "fig = plt.figure(figsize=(15, 6))\n",
    "ax1 = fig.add_subplot(121)  # First subplot\n",
    "ax2 = fig.add_subplot(122)  # Second subplot\n",
    "\n",
    "\n",
    "hb = ax1.hexbin(RGal_filtered, A_O_filtered, gridsize=70, cmap='inferno', bins='log')\n",
    "ax1.plot(RGal_filtered, A_O_fit, color=(0.078, 0.667, 1.0), linewidth=5,label='Linear Fit')\n",
    "ax1.plot(x_smooth, linear_fit, label='Linear Fit', color='red')\n",
    "ax1.set_xlabel('R_Gal (kpc)')\n",
    "ax1.set_ylabel('A(O)')\n",
    "ax1.set_title('Logarithmic Density Plot of RGal vs. A(O)')\n",
    "\n",
    "hb2 = ax2.hexbin(RGal, residuals, gridsize=100, cmap='inferno')\n",
    "ax2.axhline(0, color='red', linestyle='--', label='Zero Residual')\n",
    "ax2.set_xlabel('RGal (kpc)')\n",
    "ax2.set_ylabel('Residuals')\n",
    "ax2.set_title('Residuals Plot')\n",
    "\n",
    "\n",
    "#fit_info = f'Slope: {m:.2f}, Intercept: {b:.2f}, R²: {r_value**2:.2f}'\n",
    "#ax1.legend([fitline[0]], [fit_info], loc='lower left')\n",
    "plt.colorbar(hb, ax=ax1, label='Log Density')\n",
    "plt.colorbar(hb2, ax=ax2, label='Counts')\n",
    "plt.savefig('figures/RGal_vs_AO.png', bbox_inches='tight')\n",
    "plt.show()\n",
    "# Save the figure\n",
    "\n",
    "plt.close()  # Close the figure to free memory"
   ]
  },
  {
   "cell_type": "markdown",
   "metadata": {},
   "source": [
    "(b) Residuals of the fit, $R_{Gal}$. vs. $\\Delta A(O)$."
   ]
  },
  {
   "cell_type": "markdown",
   "metadata": {},
   "source": [
    "#### Use a python fitting tool to fit a linear function to the data, reporting the intercept and slope with uncertainties. Include any hyperparameters used."
   ]
  },
  {
   "cell_type": "markdown",
   "metadata": {},
   "source": [
    "#### Discuss where the linear model fits well and where it does not. Use statistical metrics, such as the root mean squares or other goodness-of-fit indicators, to quantify the performance of your linear fit in general and regions with larger residuals."
   ]
  },
  {
   "cell_type": "markdown",
   "metadata": {},
   "source": [
    "#### Plot a 3-panel figure for the x vs. y plane using the same bins and sensible colormaps:"
   ]
  },
  {
   "cell_type": "markdown",
   "metadata": {},
   "source": [
    "(a) 2D-histogram of the median simulated A(O)"
   ]
  },
  {
   "cell_type": "markdown",
   "metadata": {},
   "source": [
    "(b) 2D-histogram of the median fitted A(O)"
   ]
  },
  {
   "cell_type": "markdown",
   "metadata": {},
   "source": [
    "(c) 2D-histogram of the median residuals ∆A(O)"
   ]
  },
  {
   "cell_type": "markdown",
   "metadata": {},
   "source": [
    "#### Describe your choice of 2D bins. Discuss what details would be missed with fewer bins or problems encountered with more bins."
   ]
  },
  {
   "cell_type": "markdown",
   "metadata": {},
   "source": [
    "#### Analyze the residuals in more detail and propose an explanation for any patterns you observe."
   ]
  },
  {
   "cell_type": "markdown",
   "metadata": {},
   "source": []
  },
  {
   "cell_type": "code",
   "execution_count": 28,
   "metadata": {},
   "outputs": [],
   "source": [
    "fits_file.close()"
   ]
  }
 ],
 "metadata": {
  "kernelspec": {
   "display_name": "base",
   "language": "python",
   "name": "python3"
  },
  "language_info": {
   "codemirror_mode": {
    "name": "ipython",
    "version": 3
   },
   "file_extension": ".py",
   "mimetype": "text/x-python",
   "name": "python",
   "nbconvert_exporter": "python",
   "pygments_lexer": "ipython3",
   "version": "3.11.8"
  }
 },
 "nbformat": 4,
 "nbformat_minor": 2
}
