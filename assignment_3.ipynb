{
 "cells": [
  {
   "cell_type": "markdown",
   "metadata": {},
   "source": [
    "# Assignment 3 \n",
    "u6664231"
   ]
  },
  {
   "cell_type": "code",
   "execution_count": null,
   "metadata": {},
   "outputs": [],
   "source": []
  },
  {
   "cell_type": "markdown",
   "metadata": {},
   "source": [
    "## Question 1  Git in practice "
   ]
  },
  {
   "cell_type": "markdown",
   "metadata": {},
   "source": [
    "See commit history on public repo: https://github.com/gkb21/ASTR4004_assignment3"
   ]
  },
  {
   "cell_type": "markdown",
   "metadata": {},
   "source": [
    "Also note for the first dozen or so commits I was playing around with how branching and merging worked and what I could and couldn't do so sorry for the chaos  "
   ]
  },
  {
   "cell_type": "markdown",
   "metadata": {},
   "source": [
    "## Question 2 Using ADQL to Search for Bright Stars Around the Open Cluster M67"
   ]
  },
  {
   "cell_type": "markdown",
   "metadata": {},
   "source": [
    "A colleague is interested in the open cluster Messier 67 (RA = 132.825 deg, Dec = 11.8 deg)\n",
    "and is considering an observation proposal using the 2dF fibre positioner and HERMES\n",
    "spectrograph (effective for Gaia G band magnitudes < 14). They need to know if there\n",
    "are enough bright stars in this region for observation. Your task is to assist by querying\n",
    "data from Gaia DR3 and performing some basic analysis."
   ]
  },
  {
   "cell_type": "markdown",
   "metadata": {},
   "source": [
    "- #### Download all stars within 1 degree of the center of Messier 67 that are brighter than G = 14 in Gaia DR3 (the table is called gaiadr gaia source) and include a crossmatch these stars with the 2MASS catalog and report your ADQL query text (use the \"\"\"query\"\"\" notation)"
   ]
  },
  {
   "cell_type": "code",
   "execution_count": 2,
   "metadata": {},
   "outputs": [
    {
     "name": "stdout",
     "output_type": "stream",
     "text": [
      "693531223.py:     solution_id             DESIGNATION         ... ext_key    j_date   \n",
      "                                                ...              d      \n",
      "------------------- --------------------------- ... ------- ------------\n",
      "1636148068921376768 Gaia DR3 608020176290124544 ...      --  2451115.016\n",
      "1636148068921376768 Gaia DR3 598677041873269888 ...      -- 2450768.9557\n",
      "1636148068921376768 Gaia DR3 604920240695111424 ...      -- 2450768.9551\n",
      "1636148068921376768 Gaia DR3 604992258706635520 ...      -- 2450767.9772\n",
      "1636148068921376768 Gaia DR3 604684326730942592 ...      -- 2451590.6908\n",
      "1636148068921376768 Gaia DR3 598949304144504448 ...      -- 2451586.8422\n",
      "1636148068921376768 Gaia DR3 604997202213330560 ...      -- 2450767.9966\n",
      "1636148068921376768 Gaia DR3 598878424300068352 ...      -- 2450768.9362\n",
      "1636148068921376768 Gaia DR3 601999250616455168 ...      -- 2451115.0061\n",
      "                ...                         ... ...     ...          ...\n",
      "1636148068921376768 Gaia DR3 598964117487368576 ...      -- 2451586.8423\n",
      "1636148068921376768 Gaia DR3 604691022584872832 ...      -- 2451586.8592\n",
      "1636148068921376768 Gaia DR3 604896051439390848 ...      -- 2450768.9456\n",
      "1636148068921376768 Gaia DR3 604640930381330304 ...      -- 2451586.8676\n",
      "1636148068921376768 Gaia DR3 604976556306119040 ...      -- 2450767.9876\n",
      "1636148068921376768 Gaia DR3 608127481752974720 ...      -- 2450767.9978\n",
      "1636148068921376768 Gaia DR3 604901652076632960 ...      -- 2451586.8493\n",
      "1636148068921376768 Gaia DR3 604972226979105664 ...      -- 2450767.9876\n",
      "1636148068921376768 Gaia DR3 607987736401416576 ...      -- 2451135.0284\n",
      "1636148068921376768 Gaia DR3 598890381488889088 ...      -- 2450768.9457\n",
      "Length = 1018 rows\n"
     ]
    }
   ],
   "source": [
    "from astroquery.gaia import Gaia\n",
    "import pandas as pd\n",
    "from astropy.table import Table # this works well for FITS data catalogues\n",
    "\n",
    "# Define the center of Messier 67\n",
    "ra_m67 = 132.825   # Right Ascension in degrees\n",
    "dec_m67 = 11.8 # Declination in degrees\n",
    "radius = 1.0  # Search radius in degrees\n",
    "mag_limit = 14  # Magnitude limit\n",
    "\n",
    "# Construct the query\n",
    "query = f\"\"\"\n",
    "SELECT *\n",
    "FROM gaiadr3.gaia_source AS gaia\n",
    "JOIN gaiaedr3.tmass_psc_xsc_best_neighbour AS xmatch USING (source_id)\n",
    "JOIN gaiaedr3.tmass_psc_xsc_join AS xjoin USING (clean_tmass_psc_xsc_oid)\n",
    "JOIN gaiadr1.tmass_original_valid AS tmass\n",
    "    ON xjoin.original_psc_source_id = tmass.designation\n",
    "\n",
    "WHERE CONTAINS(\n",
    "        POINT(gaia.ra, gaia.dec), \n",
    "        CIRCLE({ra_m67}, {dec_m67}, {radius})\n",
    "    ) = 1\n",
    "    AND gaia.phot_g_mean_mag < {mag_limit}\n",
    "ORDER BY gaia.phot_g_mean_mag\n",
    "\n",
    "\"\"\"\n",
    "\n",
    "# Run the query\n",
    "job = Gaia.launch_job(query)\n",
    "results = job.get_results()\n",
    "query_data_table = Table(results)\n",
    "print(query_data_table)"
   ]
  },
  {
   "cell_type": "markdown",
   "metadata": {},
   "source": [
    "- #### Determine how many stars are returned from the initial query.a"
   ]
  },
  {
   "cell_type": "code",
   "execution_count": null,
   "metadata": {},
   "outputs": [],
   "source": []
  },
  {
   "cell_type": "markdown",
   "metadata": {},
   "source": [
    "- #### Identify any stars with bad 2MASS photometry, where ph qual is not ’AAA’."
   ]
  },
  {
   "cell_type": "code",
   "execution_count": null,
   "metadata": {},
   "outputs": [],
   "source": []
  },
  {
   "cell_type": "markdown",
   "metadata": {},
   "source": [
    "- #### Identify any stars with negative (or non-positive) parallaxes in the Gaia data."
   ]
  },
  {
   "cell_type": "code",
   "execution_count": null,
   "metadata": {},
   "outputs": [],
   "source": []
  },
  {
   "cell_type": "markdown",
   "metadata": {},
   "source": [
    "- #### Apply these two quality cuts (removing stars with bad 2MASS photometry and non-positive parallaxes). After applying the cuts, determine how many stars remain."
   ]
  },
  {
   "cell_type": "code",
   "execution_count": null,
   "metadata": {},
   "outputs": [],
   "source": []
  },
  {
   "cell_type": "markdown",
   "metadata": {},
   "source": [
    "- #### Using the remaining stars, generate a figure with two panels (1 point per panel):\n"
   ]
  },
  {
   "cell_type": "markdown",
   "metadata": {},
   "source": [
    "(a) A color-magnitude diagram (CMD) of Gaia BP-RP vs. absolute G magnitude.\n"
   ]
  },
  {
   "cell_type": "code",
   "execution_count": null,
   "metadata": {},
   "outputs": [],
   "source": []
  },
  {
   "cell_type": "markdown",
   "metadata": {},
   "source": [
    "(b) A 2MASS J-Ks vs. apparent K magnitude diagram."
   ]
  },
  {
   "cell_type": "code",
   "execution_count": null,
   "metadata": {},
   "outputs": [],
   "source": []
  },
  {
   "cell_type": "markdown",
   "metadata": {},
   "source": [
    "- #### Save the figure as figures/cmds M67.png with a resolution of 200 dots per inch"
   ]
  },
  {
   "cell_type": "markdown",
   "metadata": {},
   "source": [
    "- #### Give your colleague a recommendation for the potential proposal when only judging the fibre usage."
   ]
  },
  {
   "cell_type": "markdown",
   "metadata": {},
   "source": [
    "## Question 3 The radial metallicity relation in simulated data "
   ]
  },
  {
   "cell_type": "markdown",
   "metadata": {},
   "source": [
    "The radial metallicity relation is a function that describes the change of metallicity -\n",
    "here the gas phase metallicity $A(O) = log10(NO/NH) + 12$ - along the galactocentric\n",
    "radius $R_{Gal}$.. Understanding the radial metallicity gradient in galaxies provides critical\n",
    "insights into their formation and evolutionary processes, such as inside-out formation,\n",
    "gas accretion, outflows, and radial migration. A lot of work has been done through\n",
    "observational studies (e.g. Ho et al., 2017, ApJ, 846, 39) and a few simulations (e.g.\n",
    "Grand et al., 2016, MNRAS, 460, 94), but more works needs to be done to understand\n",
    "the radial metallicity gradient!\n",
    "Your colleague has just finished an exciting cosmological simulation that traces the\n",
    "gas phase metallicity for a Milky Way analogue, that is, a spiral galaxy. They have\n",
    "limited the simulation data to the positions (x, y, z) of the innermost gas particles\n",
    "(RGal. < 25 kpc) and their gas phase metallicity A(O) and uploaded them as a FITS\n",
    "file for you here: https://github.com/svenbuder/astr4004_2024_week7/blob/main/data/nihao_uhd_simulation_g8.26e11_xyz_positions_and_oxygen_ao.fits"
   ]
  },
  {
   "cell_type": "code",
   "execution_count": 2,
   "metadata": {},
   "outputs": [],
   "source": [
    "try:\n",
    "    %matplotlib inline\n",
    "    %config InlineBackend.figure_format='retina'\n",
    "except:\n",
    "    pass\n",
    "\n",
    "import numpy as np\n",
    "import matplotlib\n",
    "import matplotlib.pyplot as plt\n",
    "\n",
    "# Make the size and fonts larger for this presentation\n",
    "plt.rcParams['figure.figsize'] = (10, 8)\n",
    "plt.rcParams['font.size'] = 16\n",
    "plt.rcParams['lines.linewidth'] = 2"
   ]
  },
  {
   "cell_type": "code",
   "execution_count": 3,
   "metadata": {},
   "outputs": [],
   "source": [
    "import pandas as pd\n",
    "from astropy.table import Table # this works well for FITS data catalogues\n",
    "from astropy.io import fits # this is your more agnostic way to work for FITS images\n",
    "import matplotlib.pyplot as plt\n",
    "from sklearn.linear_model import LinearRegression\n",
    "import numpy as np"
   ]
  },
  {
   "cell_type": "markdown",
   "metadata": {},
   "source": [
    "#### - Download the file from the link above into **data/**. Load the file with python and then perform the following tasks to create figures that are saved in **figures/**:"
   ]
  },
  {
   "cell_type": "code",
   "execution_count": null,
   "metadata": {},
   "outputs": [],
   "source": [
    "# FITS Images\n",
    "fits_file = fits.open('data/nihao_uhd_simulation_g8.26e11_xyz_positions_and_oxygen_ao.fits', ignore_missing_simple=True)\n",
    "print(fits_file)"
   ]
  },
  {
   "cell_type": "code",
   "execution_count": null,
   "metadata": {},
   "outputs": [],
   "source": [
    "#we can also just dump information for this fits file\n",
    "print(fits_file.info())"
   ]
  },
  {
   "cell_type": "code",
   "execution_count": null,
   "metadata": {},
   "outputs": [],
   "source": [
    "#print the header for the Primary Extension\n",
    "print(fits_file[0].header.items)"
   ]
  },
  {
   "cell_type": "code",
   "execution_count": null,
   "metadata": {},
   "outputs": [],
   "source": [
    "data = fits_file[1].data\n",
    "data_table = Table(data)\n",
    "print(data_table.colnames)"
   ]
  },
  {
   "cell_type": "markdown",
   "metadata": {},
   "source": [
    "(a) Logarithmic density plot of RGal. vs. A(O), with a linear fit and legend."
   ]
  },
  {
   "cell_type": "code",
   "execution_count": 8,
   "metadata": {},
   "outputs": [],
   "source": [
    "# Calculate RGal from x, y, z positions\n",
    "x = data_table['x']\n",
    "y = data_table['y']\n",
    "z = data_table['z']\n",
    "A_O = data_table['A_O']  # Adjust this based on actual column name\n",
    "# Calculate RGal\n",
    "RGal = np.sqrt(x**2 + y**2 + z**2)"
   ]
  },
  {
   "cell_type": "code",
   "execution_count": 9,
   "metadata": {},
   "outputs": [],
   "source": [
    "# Filter for RGal < 25 kpc\n",
    "mask = RGal < 25\n",
    "RGal_filtered = RGal\n",
    "A_O_filtered = A_O"
   ]
  },
  {
   "cell_type": "code",
   "execution_count": 10,
   "metadata": {},
   "outputs": [],
   "source": [
    "# Prepare the linear regression model\n",
    "model = LinearRegression()\n",
    "model.fit(RGal_filtered.reshape(-1, 1), A_O_filtered)\n",
    "# Predict metallicity for the fitted model\n",
    "A_O_fit = model.predict(RGal_filtered.reshape(-1, 1))"
   ]
  },
  {
   "cell_type": "code",
   "execution_count": null,
   "metadata": {},
   "outputs": [],
   "source": [
    "# Create the plot\n",
    "# Create the plot\n",
    "fig, ax = plt.subplots()\n",
    "hb = ax.hexbin(RGal_filtered, A_O_filtered, gridsize=70, cmap='inferno', bins='log')\n",
    "ax.plot(RGal_filtered, A_O_fit, color=(0.078, 0.667, 1.0), linewidth=2.5,label='Linear Fit')\n",
    "ax.set_xlabel('R_Gal (kpc)')\n",
    "ax.set_ylabel('A(O)')\n",
    "ax.set_title('Logarithmic Density Plot of RGal vs. A(O)')\n",
    "ax.legend()\n",
    "plt.colorbar(hb, ax=ax, label='Log Density')\n",
    "plt.savefig('figures/RGal_vs_AO.png', bbox_inches='tight')\n",
    "plt.show()\n",
    "# Save the figure\n",
    "\n",
    "plt.close()  # Close the figure to free memory"
   ]
  },
  {
   "cell_type": "markdown",
   "metadata": {},
   "source": [
    "(b) Residuals of the fit, $R_{Gal}$. vs. $\\Delta A(O)$."
   ]
  },
  {
   "cell_type": "markdown",
   "metadata": {},
   "source": [
    "#### Use a python fitting tool to fit a linear function to the data, reporting the intercept and slope with uncertainties. Include any hyperparameters used."
   ]
  },
  {
   "cell_type": "markdown",
   "metadata": {},
   "source": [
    "#### Discuss where the linear model fits well and where it does not. Use statistical metrics, such as the root mean squares or other goodness-of-fit indicators, to quantify the performance of your linear fit in general and regions with larger residuals."
   ]
  },
  {
   "cell_type": "markdown",
   "metadata": {},
   "source": [
    "#### Plot a 3-panel figure for the x vs. y plane using the same bins and sensible colormaps:"
   ]
  },
  {
   "cell_type": "markdown",
   "metadata": {},
   "source": [
    "(a) 2D-histogram of the median simulated A(O)"
   ]
  },
  {
   "cell_type": "markdown",
   "metadata": {},
   "source": [
    "(b) 2D-histogram of the median fitted A(O)"
   ]
  },
  {
   "cell_type": "markdown",
   "metadata": {},
   "source": [
    "(c) 2D-histogram of the median residuals ∆A(O)"
   ]
  },
  {
   "cell_type": "markdown",
   "metadata": {},
   "source": [
    "#### Describe your choice of 2D bins. Discuss what details would be missed with fewer bins or problems encountered with more bins."
   ]
  },
  {
   "cell_type": "markdown",
   "metadata": {},
   "source": [
    "#### Analyze the residuals in more detail and propose an explanation for any patterns you observe."
   ]
  },
  {
   "cell_type": "markdown",
   "metadata": {},
   "source": []
  },
  {
   "cell_type": "code",
   "execution_count": 12,
   "metadata": {},
   "outputs": [],
   "source": [
    "fits_file.close()"
   ]
  },
  {
   "cell_type": "code",
   "execution_count": null,
   "metadata": {},
   "outputs": [],
   "source": []
  }
 ],
 "metadata": {
  "kernelspec": {
   "display_name": "base",
   "language": "python",
   "name": "python3"
  },
  "language_info": {
   "codemirror_mode": {
    "name": "ipython",
    "version": 3
   },
   "file_extension": ".py",
   "mimetype": "text/x-python",
   "name": "python",
   "nbconvert_exporter": "python",
   "pygments_lexer": "ipython3",
   "version": "3.11.8"
  }
 },
 "nbformat": 4,
 "nbformat_minor": 2
}
